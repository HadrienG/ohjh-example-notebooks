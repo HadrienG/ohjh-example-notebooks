{
 "cells": [
  {
   "cell_type": "markdown",
   "metadata": {},
   "source": [
    "# Ubiome data analysis - draft\n",
    "\n",
    "## Introduction\n",
    "\n",
    "this notebook is being written as part of the Mozilla Global Sprint 2018.  \n",
    "It aims at providing to openhumans members with a walkthrough on how to analyse their microbiome data from ubiome.\n",
    "\n"
   ]
  },
  {
   "cell_type": "markdown",
   "metadata": {},
   "source": [
    "## Data import\n",
    "\n",
    "First, we load and install the necessary packages (be patient!):"
   ]
  },
  {
   "cell_type": "code",
   "execution_count": 138,
   "metadata": {},
   "outputs": [
    {
     "name": "stderr",
     "output_type": "stream",
     "text": [
      "Bioconductor version 3.6 (BiocInstaller 1.28.0), ?biocLite for help\n",
      "A new version of Bioconductor is available after installing the most recent\n",
      "  version of R; see http://bioconductor.org/install\n",
      "BioC_mirror: https://bioconductor.org\n",
      "Using Bioconductor 3.6 (BiocInstaller 1.28.0), R 3.4.1 (2017-06-30).\n",
      "Installing package(s) ‘phyloseq’\n",
      "Updating HTML index of packages in '.Library'\n",
      "Making 'packages.html' ... done\n",
      "Old packages: 'bindrcpp', 'bit64', 'config', 'DBI', 'dbplyr', 'ddalpha',\n",
      "  'digest', 'forecast', 'foreign', 'git2r', 'hms', 'htmlwidgets', 'httpuv',\n",
      "  'kernlab', 'lattice', 'lmtest', 'lubridate', 'MASS', 'Matrix', 'nlme',\n",
      "  'pbdZMQ', 'pillar', 'plogr', 'prodlim', 'psych', 'randomForest', 'Rcpp',\n",
      "  'RcppArmadillo', 'RCurl', 'readxl', 'repr', 'rmarkdown', 'robustbase',\n",
      "  'RSQLite', 'selectr', 'sfsmisc', 'sourcetools', 'sparklyr', 'stringi',\n",
      "  'survival', 'tidyverse', 'timeDate', 'tseries', 'viridisLite', 'withr',\n",
      "  'xml2', 'yaml'\n"
     ]
    }
   ],
   "source": [
    "source('http://bioconductor.org/biocLite.R')\n",
    "biocLite('phyloseq')"
   ]
  },
  {
   "cell_type": "code",
   "execution_count": 113,
   "metadata": {},
   "outputs": [
    {
     "name": "stderr",
     "output_type": "stream",
     "text": [
      "Updating HTML index of packages in '.Library'\n",
      "Making 'packages.html' ... done\n",
      "Bioconductor version 3.6 (BiocInstaller 1.28.0), ?biocLite for help\n",
      "A new version of Bioconductor is available after installing the most recent\n",
      "  version of R; see http://bioconductor.org/install\n",
      "BioC_mirror: https://bioconductor.org\n",
      "Using Bioconductor 3.6 (BiocInstaller 1.28.0), R 3.4.1 (2017-06-30).\n",
      "Installing package(s) ‘phyloseq’\n",
      "also installing the dependencies ‘zlibbioc’, ‘rhdf5’, ‘S4Vectors’, ‘IRanges’, ‘XVector’, ‘permute’, ‘mgcv’, ‘ade4’, ‘ape’, ‘Biobase’, ‘BiocGenerics’, ‘biomformat’, ‘Biostrings’, ‘cluster’, ‘data.table’, ‘igraph’, ‘multtest’, ‘vegan’\n",
      "\n",
      "Updating HTML index of packages in '.Library'\n",
      "Making 'packages.html' ... done\n",
      "Old packages: 'bindrcpp', 'bit64', 'config', 'DBI', 'dbplyr', 'ddalpha',\n",
      "  'digest', 'forecast', 'foreign', 'git2r', 'hms', 'htmlwidgets', 'httpuv',\n",
      "  'kernlab', 'lattice', 'lmtest', 'lubridate', 'MASS', 'Matrix', 'nlme',\n",
      "  'pbdZMQ', 'pillar', 'plogr', 'prodlim', 'psych', 'randomForest', 'Rcpp',\n",
      "  'RcppArmadillo', 'RCurl', 'readxl', 'repr', 'rmarkdown', 'robustbase',\n",
      "  'RSQLite', 'selectr', 'sfsmisc', 'sourcetools', 'sparklyr', 'stringi',\n",
      "  'survival', 'tidyverse', 'timeDate', 'tseries', 'viridisLite', 'withr',\n",
      "  'xml2', 'yaml'\n"
     ]
    }
   ],
   "source": [
    "library(httr)\n",
    "library(tidyverse)\n",
    "library(phyloseq)"
   ]
  },
  {
   "cell_type": "markdown",
   "metadata": {},
   "source": [
    "I do not have my own Ubiome data, so I'll import a public dataset using the public API"
   ]
  },
  {
   "cell_type": "code",
   "execution_count": 110,
   "metadata": {},
   "outputs": [],
   "source": [
    "url <- paste0(\"https://www.openhumans.org/api/\",\n",
    "             \"public-data/?source=direct-sharing-132\")\n",
    "resp <- GET(url)\n",
    "results <- content(resp, as = \"parsed\", type = \"application/json\")$results\n",
    "results <- bind_rows(lapply(results, as.data.frame.list, stringsAsFactors=FALSE))"
   ]
  },
  {
   "cell_type": "markdown",
   "metadata": {},
   "source": [
    "The Ubiome data is apparently available as a raw fastq file or a json result file  \n",
    "We'll first explore the content of the json files.  \n",
    "We are not interested in the names of the users, so let's \"anonimize\" our dataframe first by dropping some columns"
   ]
  },
  {
   "cell_type": "code",
   "execution_count": 111,
   "metadata": {},
   "outputs": [],
   "source": [
    "jsons  <- filter(results, metadata.tags..json. == 'json') %>%\n",
    "    select(-metadata.tags..fastq., -user.name, -user.username,\n",
    "          -metadata.tags..uBiome., -metadata.tags..16S.,\n",
    "          -source, -metadata.description, -metadata.tags..json.)"
   ]
  },
  {
   "cell_type": "code",
   "execution_count": 112,
   "metadata": {},
   "outputs": [
    {
     "data": {
      "text/html": [
       "<table>\n",
       "<thead><tr><th scope=col>id</th><th scope=col>basename</th><th scope=col>created</th><th scope=col>download_url</th><th scope=col>user.id</th><th scope=col>metadata.user_notes</th></tr></thead>\n",
       "<tbody>\n",
       "\t<tr><td>37844                                                                                        </td><td>taxonomy.json                                                                                </td><td>2018-04-10T19:21:12.089631Z                                                                  </td><td>https://www.openhumans.org/data-management/datafile-download/37844/                          </td><td>08868768                                                                                     </td><td>NA                                                                                           </td></tr>\n",
       "\t<tr><td>37870                                                                                        </td><td>taxonomy-1.json                                                                              </td><td>2018-04-10T19:21:42.698608Z                                                                  </td><td>https://www.openhumans.org/data-management/datafile-download/37870/                          </td><td>35269294                                                                                     </td><td>GENITAL (F)\r\n",
       "Sampled on\r\n",
       "12/03/2015\r\n",
       "Kit No. 407-018-198 Registered on 12/03/2015      </td></tr>\n",
       "\t<tr><td>37872                                                                                        </td><td>taxonomy-2.json                                                                              </td><td>2018-04-10T19:21:42.709555Z                                                                  </td><td>https://www.openhumans.org/data-management/datafile-download/37872/                          </td><td>35269294                                                                                     </td><td>GENITAL (F)\r\n",
       "Sampled on\r\n",
       "5/09/2016\r\n",
       "Kit No. 620-054-275 Registered on 5/10/2016        </td></tr>\n",
       "\t<tr><td>37874                                                                                        </td><td>taxonomy-3.json                                                                              </td><td>2018-04-10T19:21:42.723138Z                                                                  </td><td>https://www.openhumans.org/data-management/datafile-download/37874/                          </td><td>35269294                                                                                     </td><td>SKIN\r\n",
       "Sampled on\r\n",
       "5/09/2016\r\n",
       "Kit No. 620-054-275 Registered on 5/10/2016 EXPLORE SAMPLE</td></tr>\n",
       "\t<tr><td>37876                                                                                        </td><td>taxonomy-4.json                                                                              </td><td>2018-04-10T19:21:42.734174Z                                                                  </td><td>https://www.openhumans.org/data-management/datafile-download/37876/                          </td><td>35269294                                                                                     </td><td>MOUTH SET DATE\r\n",
       "Kit No. 938-066-987 Registered on 7/31/2016                                </td></tr>\n",
       "\t<tr><td>37878                                                                                        </td><td>taxonomy-5.json                                                                              </td><td>2018-04-10T19:21:42.746854Z                                                                  </td><td>https://www.openhumans.org/data-management/datafile-download/37878/                          </td><td>35269294                                                                                     </td><td>GUT SET DATE\r\n",
       "Kit No. 938-066-987 Registered on 7/31/2016                                  </td></tr>\n",
       "</tbody>\n",
       "</table>\n"
      ],
      "text/latex": [
       "\\begin{tabular}{r|llllll}\n",
       " id & basename & created & download\\_url & user.id & metadata.user\\_notes\\\\\n",
       "\\hline\n",
       "\t 37844                                                                                         & taxonomy.json                                                                                 & 2018-04-10T19:21:12.089631Z                                                                   & https://www.openhumans.org/data-management/datafile-download/37844/                           & 08868768                                                                                      & NA                                                                                           \\\\\n",
       "\t 37870                                                                                         & taxonomy-1.json                                                                               & 2018-04-10T19:21:42.698608Z                                                                   & https://www.openhumans.org/data-management/datafile-download/37870/                           & 35269294                                                                                      & GENITAL (F)\r\n",
       "Sampled on\r\n",
       "12/03/2015\r\n",
       "Kit No. 407-018-198 Registered on 12/03/2015      \\\\\n",
       "\t 37872                                                                                         & taxonomy-2.json                                                                               & 2018-04-10T19:21:42.709555Z                                                                   & https://www.openhumans.org/data-management/datafile-download/37872/                           & 35269294                                                                                      & GENITAL (F)\r\n",
       "Sampled on\r\n",
       "5/09/2016\r\n",
       "Kit No. 620-054-275 Registered on 5/10/2016        \\\\\n",
       "\t 37874                                                                                         & taxonomy-3.json                                                                               & 2018-04-10T19:21:42.723138Z                                                                   & https://www.openhumans.org/data-management/datafile-download/37874/                           & 35269294                                                                                      & SKIN\r\n",
       "Sampled on\r\n",
       "5/09/2016\r\n",
       "Kit No. 620-054-275 Registered on 5/10/2016 EXPLORE SAMPLE\\\\\n",
       "\t 37876                                                                                         & taxonomy-4.json                                                                               & 2018-04-10T19:21:42.734174Z                                                                   & https://www.openhumans.org/data-management/datafile-download/37876/                           & 35269294                                                                                      & MOUTH SET DATE\r\n",
       "Kit No. 938-066-987 Registered on 7/31/2016                                \\\\\n",
       "\t 37878                                                                                         & taxonomy-5.json                                                                               & 2018-04-10T19:21:42.746854Z                                                                   & https://www.openhumans.org/data-management/datafile-download/37878/                           & 35269294                                                                                      & GUT SET DATE\r\n",
       "Kit No. 938-066-987 Registered on 7/31/2016                                  \\\\\n",
       "\\end{tabular}\n"
      ],
      "text/markdown": [
       "\n",
       "id | basename | created | download_url | user.id | metadata.user_notes | \n",
       "|---|---|---|---|---|---|\n",
       "| 37844                                                                                         | taxonomy.json                                                                                 | 2018-04-10T19:21:12.089631Z                                                                   | https://www.openhumans.org/data-management/datafile-download/37844/                           | 08868768                                                                                      | NA                                                                                            | \n",
       "| 37870                                                                                         | taxonomy-1.json                                                                               | 2018-04-10T19:21:42.698608Z                                                                   | https://www.openhumans.org/data-management/datafile-download/37870/                           | 35269294                                                                                      | GENITAL (F)\r\n",
       "Sampled on\r\n",
       "12/03/2015\r\n",
       "Kit No. 407-018-198 Registered on 12/03/2015       | \n",
       "| 37872                                                                                         | taxonomy-2.json                                                                               | 2018-04-10T19:21:42.709555Z                                                                   | https://www.openhumans.org/data-management/datafile-download/37872/                           | 35269294                                                                                      | GENITAL (F)\r\n",
       "Sampled on\r\n",
       "5/09/2016\r\n",
       "Kit No. 620-054-275 Registered on 5/10/2016         | \n",
       "| 37874                                                                                         | taxonomy-3.json                                                                               | 2018-04-10T19:21:42.723138Z                                                                   | https://www.openhumans.org/data-management/datafile-download/37874/                           | 35269294                                                                                      | SKIN\r\n",
       "Sampled on\r\n",
       "5/09/2016\r\n",
       "Kit No. 620-054-275 Registered on 5/10/2016 EXPLORE SAMPLE | \n",
       "| 37876                                                                                         | taxonomy-4.json                                                                               | 2018-04-10T19:21:42.734174Z                                                                   | https://www.openhumans.org/data-management/datafile-download/37876/                           | 35269294                                                                                      | MOUTH SET DATE\r\n",
       "Kit No. 938-066-987 Registered on 7/31/2016                                 | \n",
       "| 37878                                                                                         | taxonomy-5.json                                                                               | 2018-04-10T19:21:42.746854Z                                                                   | https://www.openhumans.org/data-management/datafile-download/37878/                           | 35269294                                                                                      | GUT SET DATE\r\n",
       "Kit No. 938-066-987 Registered on 7/31/2016                                   | \n",
       "\n",
       "\n"
      ],
      "text/plain": [
       "  id    basename        created                    \n",
       "1 37844 taxonomy.json   2018-04-10T19:21:12.089631Z\n",
       "2 37870 taxonomy-1.json 2018-04-10T19:21:42.698608Z\n",
       "3 37872 taxonomy-2.json 2018-04-10T19:21:42.709555Z\n",
       "4 37874 taxonomy-3.json 2018-04-10T19:21:42.723138Z\n",
       "5 37876 taxonomy-4.json 2018-04-10T19:21:42.734174Z\n",
       "6 37878 taxonomy-5.json 2018-04-10T19:21:42.746854Z\n",
       "  download_url                                                        user.id \n",
       "1 https://www.openhumans.org/data-management/datafile-download/37844/ 08868768\n",
       "2 https://www.openhumans.org/data-management/datafile-download/37870/ 35269294\n",
       "3 https://www.openhumans.org/data-management/datafile-download/37872/ 35269294\n",
       "4 https://www.openhumans.org/data-management/datafile-download/37874/ 35269294\n",
       "5 https://www.openhumans.org/data-management/datafile-download/37876/ 35269294\n",
       "6 https://www.openhumans.org/data-management/datafile-download/37878/ 35269294\n",
       "  metadata.user_notes                                                                          \n",
       "1 NA                                                                                           \n",
       "2 GENITAL (F)\\r\\nSampled on\\r\\n12/03/2015\\r\\nKit No. 407-018-198 Registered on 12/03/2015      \n",
       "3 GENITAL (F)\\r\\nSampled on\\r\\n5/09/2016\\r\\nKit No. 620-054-275 Registered on 5/10/2016        \n",
       "4 SKIN\\r\\nSampled on\\r\\n5/09/2016\\r\\nKit No. 620-054-275 Registered on 5/10/2016 EXPLORE SAMPLE\n",
       "5 MOUTH SET DATE\\r\\nKit No. 938-066-987 Registered on 7/31/2016                                \n",
       "6 GUT SET DATE\\r\\nKit No. 938-066-987 Registered on 7/31/2016                                  "
      ]
     },
     "metadata": {},
     "output_type": "display_data"
    }
   ],
   "source": [
    "head(jsons)"
   ]
  },
  {
   "cell_type": "markdown",
   "metadata": {},
   "source": [
    "We download the first json file and try to import it"
   ]
  },
  {
   "cell_type": "code",
   "execution_count": 140,
   "metadata": {},
   "outputs": [
    {
     "ename": "ERROR",
     "evalue": "Error in parse_con(txt, bigint_as_char): lexical error: invalid char in json text.\n                                    {  download_time_utc: \"2016-04-21T\n                     (right here) ------^\n\n",
     "output_type": "error",
     "traceback": [
      "Error in parse_con(txt, bigint_as_char): lexical error: invalid char in json text.\n                                    {  download_time_utc: \"2016-04-21T\n                     (right here) ------^\n\nTraceback:\n",
      "1. jsonlite::fromJSON(\"test.json\")",
      "2. fromJSON_string(txt = txt, simplifyVector = simplifyVector, simplifyDataFrame = simplifyDataFrame, \n .     simplifyMatrix = simplifyMatrix, flatten = flatten, ...)",
      "3. parseJSON(txt, bigint_as_char)",
      "4. parse_con(txt, bigint_as_char)"
     ]
    }
   ],
   "source": [
    "download.file(jsons$download_url[1], destfile = \"test.json\")\n",
    "jsonlite::fromJSON(\"test.json\")"
   ]
  },
  {
   "cell_type": "code",
   "execution_count": null,
   "metadata": {},
   "outputs": [],
   "source": []
  },
  {
   "cell_type": "code",
   "execution_count": null,
   "metadata": {},
   "outputs": [],
   "source": []
  },
  {
   "cell_type": "code",
   "execution_count": null,
   "metadata": {},
   "outputs": [],
   "source": []
  }
 ],
 "metadata": {
  "kernelspec": {
   "display_name": "R",
   "language": "R",
   "name": "ir"
  },
  "language_info": {
   "codemirror_mode": "r",
   "file_extension": ".r",
   "mimetype": "text/x-r-source",
   "name": "R",
   "pygments_lexer": "r",
   "version": "3.4.1"
  }
 },
 "nbformat": 4,
 "nbformat_minor": 2
}
